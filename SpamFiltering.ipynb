{
  "nbformat": 4,
  "nbformat_minor": 0,
  "metadata": {
    "colab": {
      "provenance": [],
      "authorship_tag": "ABX9TyPyNWveo0rrgqBOZFmin0e7",
      "include_colab_link": true
    },
    "kernelspec": {
      "name": "python3",
      "display_name": "Python 3"
    },
    "language_info": {
      "name": "python"
    }
  },
  "cells": [
    {
      "cell_type": "markdown",
      "metadata": {
        "id": "view-in-github",
        "colab_type": "text"
      },
      "source": [
        "<a href=\"https://colab.research.google.com/github/AmirMasoudes/Practice/blob/main/SpamFiltering.ipynb\" target=\"_parent\"><img src=\"https://colab.research.google.com/assets/colab-badge.svg\" alt=\"Open In Colab\"/></a>"
      ]
    },
    {
      "cell_type": "code",
      "execution_count": 4,
      "metadata": {
        "colab": {
          "base_uri": "https://localhost:8080/"
        },
        "id": "Wn9oPYwaPE3W",
        "outputId": "4a561bb7-1fee-4300-dcc3-b0f7afdfa907"
      },
      "outputs": [
        {
          "output_type": "stream",
          "name": "stderr",
          "text": [
            "[nltk_data] Downloading package stopwords to /root/nltk_data...\n",
            "[nltk_data]   Package stopwords is already up-to-date!\n"
          ]
        },
        {
          "output_type": "stream",
          "name": "stdout",
          "text": [
            "Accuracy: 0.795\n",
            "              precision    recall  f1-score   support\n",
            "\n",
            "           0       0.75      0.88      0.81       500\n",
            "           1       0.86      0.71      0.77       500\n",
            "\n",
            "    accuracy                           0.80      1000\n",
            "   macro avg       0.80      0.79      0.79      1000\n",
            "weighted avg       0.80      0.80      0.79      1000\n",
            "\n",
            "[1 0]\n"
          ]
        }
      ],
      "source": [
        "import pandas as pd\n",
        "from sklearn.model_selection import train_test_split\n",
        "from sklearn.feature_extraction.text import TfidfVectorizer\n",
        "from sklearn.naive_bayes import MultinomialNB\n",
        "from sklearn.metrics import classification_report, accuracy_score\n",
        "import nltk\n",
        "from nltk.corpus import stopwords\n",
        "import re\n",
        "import requests\n",
        "import tarfile\n",
        "import io\n",
        "import os\n",
        "\n",
        "# بارگیری دیتاست نظرات IMDB\n",
        "def load_imdb_dataset():\n",
        "    url = 'https://ai.stanford.edu/~amaas/data/sentiment/aclImdb_v1.tar.gz'\n",
        "    response = requests.get(url)\n",
        "    tar = tarfile.open(fileobj=io.BytesIO(response.content), mode=\"r:gz\")\n",
        "    tar.extractall()\n",
        "\n",
        "    def read_reviews(path, sample_size=500):\n",
        "        reviews = []\n",
        "        sentiments = []\n",
        "        for label in ['pos', 'neg']:\n",
        "            sentiment = 1 if label == 'pos' else 0\n",
        "            labeled_path = os.path.join(path, label)\n",
        "            for review_file in os.listdir(labeled_path)[:sample_size]:\n",
        "                with open(os.path.join(labeled_path, review_file), 'r', encoding='utf-8') as file:\n",
        "                    reviews.append(file.read())\n",
        "                    sentiments.append(sentiment)\n",
        "        return reviews, sentiments\n",
        "\n",
        "    train_reviews, train_sentiments = read_reviews('aclImdb/train', sample_size=500)\n",
        "    test_reviews, test_sentiments = read_reviews('aclImdb/test', sample_size=500)\n",
        "\n",
        "    train_df = pd.DataFrame({'review': train_reviews, 'sentiment': train_sentiments})\n",
        "    test_df = pd.DataFrame({'review': test_reviews, 'sentiment': test_sentiments})\n",
        "\n",
        "    return train_df, test_df\n",
        "\n",
        "train_df, test_df = load_imdb_dataset()\n",
        "\n",
        "# پیش‌پردازش داده‌ها\n",
        "nltk.download('stopwords')\n",
        "stop_words = set(stopwords.words('english'))\n",
        "\n",
        "def preprocess_text(text):\n",
        "    text = re.sub(r'<br />', ' ', text)\n",
        "    text = re.sub(r'\\d+', '', text)\n",
        "    text = re.sub(r'\\W', ' ', text)\n",
        "    text = text.lower()\n",
        "    text = ' '.join([word for word in text.split() if word not in stop_words])\n",
        "    return text\n",
        "\n",
        "train_df['review'] = train_df['review'].apply(preprocess_text)\n",
        "test_df['review'] = test_df['review'].apply(preprocess_text)\n",
        "\n",
        "# تبدیل متن به ویژگی‌ها\n",
        "vectorizer = TfidfVectorizer(max_features=5000)\n",
        "X_train = vectorizer.fit_transform(train_df['review'])\n",
        "X_test = vectorizer.transform(test_df['review'])\n",
        "y_train = train_df['sentiment']\n",
        "y_test = test_df['sentiment']\n",
        "\n",
        "# ایجاد و آموزش مدل Naive Bayes\n",
        "model = MultinomialNB()\n",
        "model.fit(X_train, y_train)\n",
        "\n",
        "# ارزیابی مدل\n",
        "y_pred = model.predict(X_test)\n",
        "print(f'Accuracy: {accuracy_score(y_test, y_pred)}')\n",
        "print(classification_report(y_test, y_pred))\n",
        "\n",
        "# پیش‌بینی نظرات جدید\n",
        "new_reviews = [\"This movie was fantastic!\", \"I did not like this film at all.\"]\n",
        "new_reviews_preprocessed = [preprocess_text(review) for review in new_reviews]\n",
        "new_reviews_vectorized = vectorizer.transform(new_reviews_preprocessed)\n",
        "predictions = model.predict(new_reviews_vectorized)\n",
        "print(predictions)\n"
      ]
    }
  ]
}